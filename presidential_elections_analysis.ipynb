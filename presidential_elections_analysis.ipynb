{
 "cells": [
  {
   "cell_type": "code",
   "execution_count": 113,
   "metadata": {},
   "outputs": [],
   "source": [
    "import numpy as np\n",
    "import pandas as pd\n",
    "import matplotlib.pyplot as pyplot"
   ]
  },
  {
   "cell_type": "code",
   "execution_count": 114,
   "metadata": {},
   "outputs": [],
   "source": [
    "usa_2016_presidential_election_by_county = pd.read_csv('./data/usa-2016-presidential-election-by-county.csv', sep=';')"
   ]
  },
  {
   "cell_type": "code",
   "execution_count": 115,
   "metadata": {},
   "outputs": [
    {
     "data": {
      "text/html": [
       "<div>\n",
       "<style scoped>\n",
       "    .dataframe tbody tr th:only-of-type {\n",
       "        vertical-align: middle;\n",
       "    }\n",
       "\n",
       "    .dataframe tbody tr th {\n",
       "        vertical-align: top;\n",
       "    }\n",
       "\n",
       "    .dataframe thead th {\n",
       "        text-align: right;\n",
       "    }\n",
       "</style>\n",
       "<table border=\"1\" class=\"dataframe\">\n",
       "  <thead>\n",
       "    <tr style=\"text-align: right;\">\n",
       "      <th></th>\n",
       "      <th>State</th>\n",
       "      <th>ST</th>\n",
       "      <th>Fips</th>\n",
       "      <th>County</th>\n",
       "      <th>Precincts</th>\n",
       "      <th>Votes</th>\n",
       "      <th>Democrats 08 (Votes)</th>\n",
       "      <th>Democrats 12 (Votes)</th>\n",
       "      <th>Republicans 08 (Votes)</th>\n",
       "      <th>Republicans 12 (Votes)</th>\n",
       "      <th>...</th>\n",
       "      <th>total08</th>\n",
       "      <th>total12</th>\n",
       "      <th>other08</th>\n",
       "      <th>other12</th>\n",
       "      <th>Other12 Frac</th>\n",
       "      <th>Other08 Frac</th>\n",
       "      <th>Rep12 Frac2</th>\n",
       "      <th>Rep08 Frac2</th>\n",
       "      <th>Dem12 Frac2</th>\n",
       "      <th>Dem08 Frac2</th>\n",
       "    </tr>\n",
       "  </thead>\n",
       "  <tbody>\n",
       "    <tr>\n",
       "      <th>0</th>\n",
       "      <td>Alaska</td>\n",
       "      <td>AK</td>\n",
       "      <td>2100</td>\n",
       "      <td>Haines Borough, Alaska</td>\n",
       "      <td>NaN</td>\n",
       "      <td>NaN</td>\n",
       "      <td>NaN</td>\n",
       "      <td>NaN</td>\n",
       "      <td>NaN</td>\n",
       "      <td>NaN</td>\n",
       "      <td>...</td>\n",
       "      <td>NaN</td>\n",
       "      <td>NaN</td>\n",
       "      <td>NaN</td>\n",
       "      <td>NaN</td>\n",
       "      <td>NaN</td>\n",
       "      <td>NaN</td>\n",
       "      <td>NaN</td>\n",
       "      <td>NaN</td>\n",
       "      <td>NaN</td>\n",
       "      <td>NaN</td>\n",
       "    </tr>\n",
       "    <tr>\n",
       "      <th>1</th>\n",
       "      <td>Nebraska</td>\n",
       "      <td>NE</td>\n",
       "      <td>31145</td>\n",
       "      <td>Red Willow County, Nebraska</td>\n",
       "      <td>13.0</td>\n",
       "      <td>5061.0</td>\n",
       "      <td>1216.0</td>\n",
       "      <td>952.0</td>\n",
       "      <td>3735.0</td>\n",
       "      <td>3891.0</td>\n",
       "      <td>...</td>\n",
       "      <td>5044.0</td>\n",
       "      <td>4936.0</td>\n",
       "      <td>93.0</td>\n",
       "      <td>93.0</td>\n",
       "      <td>0.018841</td>\n",
       "      <td>0.018438</td>\n",
       "      <td>0.803428</td>\n",
       "      <td>0.754393</td>\n",
       "      <td>0.196572</td>\n",
       "      <td>0.245607</td>\n",
       "    </tr>\n",
       "    <tr>\n",
       "      <th>2</th>\n",
       "      <td>California</td>\n",
       "      <td>CA</td>\n",
       "      <td>6015</td>\n",
       "      <td>Del Norte County, California</td>\n",
       "      <td>18.0</td>\n",
       "      <td>9361.0</td>\n",
       "      <td>4323.0</td>\n",
       "      <td>3791.0</td>\n",
       "      <td>4967.0</td>\n",
       "      <td>4614.0</td>\n",
       "      <td>...</td>\n",
       "      <td>9531.0</td>\n",
       "      <td>8770.0</td>\n",
       "      <td>241.0</td>\n",
       "      <td>365.0</td>\n",
       "      <td>0.041619</td>\n",
       "      <td>0.025286</td>\n",
       "      <td>0.548959</td>\n",
       "      <td>0.534661</td>\n",
       "      <td>0.451041</td>\n",
       "      <td>0.465339</td>\n",
       "    </tr>\n",
       "  </tbody>\n",
       "</table>\n",
       "<p>3 rows × 159 columns</p>\n",
       "</div>"
      ],
      "text/plain": [
       "        State  ST   Fips                        County  Precincts   Votes  \\\n",
       "0      Alaska  AK   2100        Haines Borough, Alaska        NaN     NaN   \n",
       "1    Nebraska  NE  31145   Red Willow County, Nebraska       13.0  5061.0   \n",
       "2  California  CA   6015  Del Norte County, California       18.0  9361.0   \n",
       "\n",
       "   Democrats 08 (Votes)  Democrats 12 (Votes)  Republicans 08 (Votes)  \\\n",
       "0                   NaN                   NaN                     NaN   \n",
       "1                1216.0                 952.0                  3735.0   \n",
       "2                4323.0                3791.0                  4967.0   \n",
       "\n",
       "   Republicans 12 (Votes)  ...  total08  total12  other08  other12  \\\n",
       "0                     NaN  ...      NaN      NaN      NaN      NaN   \n",
       "1                  3891.0  ...   5044.0   4936.0     93.0     93.0   \n",
       "2                  4614.0  ...   9531.0   8770.0    241.0    365.0   \n",
       "\n",
       "   Other12 Frac  Other08 Frac  Rep12 Frac2  Rep08 Frac2  Dem12 Frac2  \\\n",
       "0           NaN           NaN          NaN          NaN          NaN   \n",
       "1      0.018841      0.018438     0.803428     0.754393     0.196572   \n",
       "2      0.041619      0.025286     0.548959     0.534661     0.451041   \n",
       "\n",
       "   Dem08 Frac2  \n",
       "0          NaN  \n",
       "1     0.245607  \n",
       "2     0.465339  \n",
       "\n",
       "[3 rows x 159 columns]"
      ]
     },
     "execution_count": 115,
     "metadata": {},
     "output_type": "execute_result"
    }
   ],
   "source": [
    "usa_2016_presidential_election_by_county.head(3)"
   ]
  },
  {
   "cell_type": "code",
   "execution_count": 149,
   "metadata": {
    "scrolled": true
   },
   "outputs": [
    {
     "name": "stdout",
     "output_type": "stream",
     "text": [
      "State\n",
      "ST\n",
      "Fips\n",
      "County\n",
      "Precincts\n",
      "Votes\n",
      "Democrats 08 (Votes)\n",
      "Democrats 12 (Votes)\n",
      "Republicans 08 (Votes)\n",
      "Republicans 12 (Votes)\n",
      "Republicans 2016\n",
      "Democrats 2016\n",
      "Green 2016\n",
      "Libertarians 2016\n",
      "Republicans 2012\n",
      "Republicans 2008\n",
      "Democrats 2012\n",
      "Democrats 2008\n",
      "Less Than High School Diploma\n",
      "At Least High School Diploma\n",
      "At Least Bachelors's Degree\n",
      "Graduate Degree\n",
      "School Enrollment\n",
      "Median Earnings 2010\n",
      "White (Not Latino) Population\n",
      "African American Population\n",
      "Native American Population\n",
      "Asian American Population\n",
      "Other Race or Races\n",
      "Latino Population\n",
      "Children Under 6 Living in Poverty\n",
      "Adults 65 and Older Living in Poverty\n",
      "Total Population\n",
      "Preschool.Enrollment.Ratio.enrolled.ages.3.and.4\n",
      "Poverty.Rate.below.federal.poverty.threshold\n",
      "Gini.Coefficient\n",
      "Child.Poverty.living.in.families.below.the.poverty.line\n",
      "Management.professional.and.related.occupations\n",
      "Service.occupations\n",
      "Sales.and.office.occupations\n",
      "Farming.fishing.and.forestry.occupations\n",
      "Construction.extraction.maintenance.and.repair.occupations\n",
      "Production.transportation.and.material.moving.occupations\n",
      "White\n",
      "Black\n",
      "Hispanic\n",
      "Asian\n",
      "Amerindian\n",
      "Other\n",
      "White  Asian\n",
      "Sire Homogeneity\n",
      "Median Age\n",
      "lon\n",
      "lat\n",
      "Poor.physical.health.days\n",
      "Poor.mental.health.days\n",
      "Low.birthweight\n",
      "Teen.births\n",
      "Children.in.single.parent.households\n",
      "Adult.smoking\n",
      "Adult.obesity\n",
      "Diabetes\n",
      "Sexually.transmitted.infections\n",
      "HIV.prevalence.rate\n",
      "Uninsured\n",
      "Unemployment\n",
      "Violent.crime\n",
      "Homicide.rate\n",
      "Injury.deaths\n",
      "Infant.mortality\n",
      "CA\n",
      "S\n",
      "MAR\n",
      "CFS\n",
      "ACFS\n",
      "Mean Alc\n",
      "Max Alc\n",
      "Mixedness\n",
      "elevation\n",
      "Annual Prcp\n",
      "Winter Prcp\n",
      "Summer Prcp\n",
      "Spring Prcp\n",
      "Autumn Prcp\n",
      "Annual Tavg\n",
      "Annual Tmax\n",
      "Annual Tmin\n",
      "Winter Tavg\n",
      "Winter Tmax\n",
      "Winter Tmin\n",
      "Summer Tavg\n",
      "Summer Tmax\n",
      "Summer Tmin\n",
      "Spring Tavg\n",
      "Spring Tmax\n",
      "Spring Tmin\n",
      "Autumn Tavg\n",
      "Autumn Tmax\n",
      "Autumn Tmin\n",
      "Nearest County\n",
      "temp\n",
      "precip\n",
      "Temp Bins\n",
      "Lat Bins\n",
      "Lon Bins\n",
      "Precip Bins\n",
      "Elevation Bins\n",
      "Geo Shape\n",
      "Name 16\n",
      "reporting\n",
      "Votes16 Trumpd\n",
      "Votes16 Clintonh\n",
      "Votes16 Johnsong\n",
      "Votes16 Steinj\n",
      "Votes16 Castled\n",
      "Votes16 De La Fuenter\n",
      "Est Votes Remaining\n",
      "Votes16 Mcmulline\n",
      "Votes16 Hedgesj\n",
      "Votes16 Kahnl\n",
      "Votes16 La Rivag\n",
      "Votes16 Hoeflingt\n",
      "Votes16 Kenistonc\n",
      "Votes16 Smithm\n",
      "Votes16 Atwoodf\n",
      "Votes16 Kennedya\n",
      "Votes16 Kopitkek\n",
      "Votes16 Kotlikoffl\n",
      "Votes16 Lyttleb\n",
      "Votes16 Maldonadoj\n",
      "Votes16 Maturenm\n",
      "Votes16 Scottr\n",
      "Votes16 Silvar\n",
      "Votes16 Soltysike\n",
      "Votes16 Vacekd\n",
      "Votes16 Copelands\n",
      "Votes16 Jacobp\n",
      "Votes16 Whitej\n",
      "Votes16 Mooreheadm\n",
      "Votes16 None Of These Candidates\n",
      "Votes16 Duncanr\n",
      "Votes16 Skewesp\n",
      "Votes16 Giordanir\n",
      "total16\n",
      "Other16 Frac\n",
      "Rep16 Frac2\n",
      "Dem16 Frac2\n",
      "Name Prev\n",
      "Statecode Prev\n",
      "total08\n",
      "total12\n",
      "other08\n",
      "other12\n",
      "Other12 Frac\n",
      "Other08 Frac\n",
      "Rep12 Frac2\n",
      "Rep08 Frac2\n",
      "Dem12 Frac2\n",
      "Dem08 Frac2\n"
     ]
    }
   ],
   "source": [
    "# Get column names to observe the features\n",
    "for k in usa_2016_presidential_election_by_county.columns:\n",
    "    print(k)"
   ]
  },
  {
   "cell_type": "markdown",
   "metadata": {},
   "source": [
    "We first analyze the features of the dataset. There are too many to assess as a whole, so let us begin by comparing the votes of the two parties, Republicans and Democrats, as well as the two leading candidates, Hillary Clinton, and Donald Trump by states, as we have done in the primary elections dataset."
   ]
  },
  {
   "cell_type": "code",
   "execution_count": 150,
   "metadata": {},
   "outputs": [
    {
     "data": {
      "text/html": [
       "<div>\n",
       "<style scoped>\n",
       "    .dataframe tbody tr th:only-of-type {\n",
       "        vertical-align: middle;\n",
       "    }\n",
       "\n",
       "    .dataframe tbody tr th {\n",
       "        vertical-align: top;\n",
       "    }\n",
       "\n",
       "    .dataframe thead th {\n",
       "        text-align: right;\n",
       "    }\n",
       "</style>\n",
       "<table border=\"1\" class=\"dataframe\">\n",
       "  <thead>\n",
       "    <tr style=\"text-align: right;\">\n",
       "      <th></th>\n",
       "      <th>State</th>\n",
       "      <th>County</th>\n",
       "      <th>Votes</th>\n",
       "      <th>Republicans 2016</th>\n",
       "      <th>Democrats 2016</th>\n",
       "      <th>Votes16 Trumpd</th>\n",
       "      <th>Votes16 Clintonh</th>\n",
       "    </tr>\n",
       "  </thead>\n",
       "  <tbody>\n",
       "    <tr>\n",
       "      <th>0</th>\n",
       "      <td>Nebraska</td>\n",
       "      <td>Red Willow County, Nebraska</td>\n",
       "      <td>5061.0</td>\n",
       "      <td>83.224659</td>\n",
       "      <td>12.606204</td>\n",
       "      <td>4212.0</td>\n",
       "      <td>638.0</td>\n",
       "    </tr>\n",
       "    <tr>\n",
       "      <th>1</th>\n",
       "      <td>California</td>\n",
       "      <td>Del Norte County, California</td>\n",
       "      <td>9361.0</td>\n",
       "      <td>54.844568</td>\n",
       "      <td>37.228929</td>\n",
       "      <td>5134.0</td>\n",
       "      <td>3485.0</td>\n",
       "    </tr>\n",
       "    <tr>\n",
       "      <th>2</th>\n",
       "      <td>Florida</td>\n",
       "      <td>Duval County, Florida</td>\n",
       "      <td>428734.0</td>\n",
       "      <td>48.995648</td>\n",
       "      <td>47.494950</td>\n",
       "      <td>210061.0</td>\n",
       "      <td>203627.0</td>\n",
       "    </tr>\n",
       "  </tbody>\n",
       "</table>\n",
       "</div>"
      ],
      "text/plain": [
       "        State                        County     Votes  Republicans 2016  \\\n",
       "0    Nebraska   Red Willow County, Nebraska    5061.0         83.224659   \n",
       "1  California  Del Norte County, California    9361.0         54.844568   \n",
       "2     Florida         Duval County, Florida  428734.0         48.995648   \n",
       "\n",
       "   Democrats 2016  Votes16 Trumpd  Votes16 Clintonh  \n",
       "0       12.606204          4212.0             638.0  \n",
       "1       37.228929          5134.0            3485.0  \n",
       "2       47.494950        210061.0          203627.0  "
      ]
     },
     "execution_count": 150,
     "metadata": {},
     "output_type": "execute_result"
    }
   ],
   "source": [
    "# Select relevant features to be assessed\n",
    "cols_to_keep = ['State', 'County', 'Votes', 'Republicans 2016', 'Democrats 2016', 'Votes16 Trumpd', 'Votes16 Clintonh']\n",
    "surface_analysis = usa_2016_presidential_election_by_county[cols_to_keep].dropna(subset = cols_to_keep).reset_index(drop = True)\n",
    "surface_analysis.head(3)"
   ]
  },
  {
   "cell_type": "code",
   "execution_count": 118,
   "metadata": {
    "scrolled": true
   },
   "outputs": [
    {
     "name": "stdout",
     "output_type": "stream",
     "text": [
      "83.22465915826909\n"
     ]
    }
   ],
   "source": [
    "print(surface_analysis['Democrats 2016'][0]*(surface_analysis['Votes16 Trumpd'][0]/surface_analysis['Votes16 Clintonh'][0]))"
   ]
  },
  {
   "cell_type": "markdown",
   "metadata": {},
   "source": [
    "We may notice that votes: (Democrats 2016) * (Trump 2016)/(Clinton 2016) = (Republicans 2016)\n",
    "\n",
    "This suggests the fact that the ratio of (Republicans 2016 to Democrats 2016) = (Trump 2016 to Clinton 2016), hence is the same information once normalized. This is intuitive, since after the primary elections, there is one representative from each party running for the presidential election[*] (ie: Trump for Republicans, Clinton for Democrats). \n",
    "\n",
    "[*] See primary_results_analysis.ipynb for further explanation and details \n",
    "\n",
    "In this respect, let us remove redundant columns."
   ]
  },
  {
   "cell_type": "code",
   "execution_count": 119,
   "metadata": {},
   "outputs": [
    {
     "data": {
      "text/html": [
       "<div>\n",
       "<style scoped>\n",
       "    .dataframe tbody tr th:only-of-type {\n",
       "        vertical-align: middle;\n",
       "    }\n",
       "\n",
       "    .dataframe tbody tr th {\n",
       "        vertical-align: top;\n",
       "    }\n",
       "\n",
       "    .dataframe thead th {\n",
       "        text-align: right;\n",
       "    }\n",
       "</style>\n",
       "<table border=\"1\" class=\"dataframe\">\n",
       "  <thead>\n",
       "    <tr style=\"text-align: right;\">\n",
       "      <th></th>\n",
       "      <th>State</th>\n",
       "      <th>County</th>\n",
       "      <th>Votes</th>\n",
       "      <th>Votes16 Trumpd</th>\n",
       "      <th>Votes16 Clintonh</th>\n",
       "    </tr>\n",
       "  </thead>\n",
       "  <tbody>\n",
       "    <tr>\n",
       "      <th>1748</th>\n",
       "      <td>Alabama</td>\n",
       "      <td>Pickens County, Alabama</td>\n",
       "      <td>9494.0</td>\n",
       "      <td>5454.0</td>\n",
       "      <td>3972.0</td>\n",
       "    </tr>\n",
       "    <tr>\n",
       "      <th>203</th>\n",
       "      <td>Alabama</td>\n",
       "      <td>Lauderdale County, Alabama</td>\n",
       "      <td>38813.0</td>\n",
       "      <td>27735.0</td>\n",
       "      <td>9877.0</td>\n",
       "    </tr>\n",
       "    <tr>\n",
       "      <th>2879</th>\n",
       "      <td>Alabama</td>\n",
       "      <td>Cherokee County, Alabama</td>\n",
       "      <td>10503.0</td>\n",
       "      <td>8809.0</td>\n",
       "      <td>1524.0</td>\n",
       "    </tr>\n",
       "  </tbody>\n",
       "</table>\n",
       "</div>"
      ],
      "text/plain": [
       "        State                      County    Votes  Votes16 Trumpd  \\\n",
       "1748  Alabama     Pickens County, Alabama   9494.0          5454.0   \n",
       "203   Alabama  Lauderdale County, Alabama  38813.0         27735.0   \n",
       "2879  Alabama    Cherokee County, Alabama  10503.0          8809.0   \n",
       "\n",
       "      Votes16 Clintonh  \n",
       "1748            3972.0  \n",
       "203             9877.0  \n",
       "2879            1524.0  "
      ]
     },
     "execution_count": 119,
     "metadata": {},
     "output_type": "execute_result"
    }
   ],
   "source": [
    "surface_analysis = surface_analysis.drop(['Republicans 2016', 'Democrats 2016'], 1).reset_index(drop = True).sort_values(by = 'State')\n",
    "surface_analysis.head(3)"
   ]
  },
  {
   "cell_type": "markdown",
   "metadata": {},
   "source": [
    "We now continue by visualizing the information, first by state"
   ]
  },
  {
   "cell_type": "code",
   "execution_count": 152,
   "metadata": {},
   "outputs": [
    {
     "data": {
      "text/plain": [
       "Text(0, 0.5, 'Vote Count')"
      ]
     },
     "execution_count": 152,
     "metadata": {},
     "output_type": "execute_result"
    },
    {
     "data": {
      "image/png": "[encoded data removed]",
      "text/plain": [
       "<Figure size 1440x720 with 1 Axes>"
      ]
     },
     "metadata": {
      "needs_background": "light"
     },
     "output_type": "display_data"
    }
   ],
   "source": [
    "# Retrieve list of vote counts for Donald Trump, grouped by each state (combined counties)\n",
    "trump = pd.DataFrame.copy(surface_analysis)\n",
    "trump = trump.drop(['Votes', 'Votes16 Clintonh'], 1)\n",
    "trump_state = trump.groupby(['State'])['Votes16 Trumpd'].sum()\n",
    "\n",
    "# Retrieve list of vote counts for Hillary Clinton, grouped by each state (combined counties)\n",
    "clinton = pd.DataFrame.copy(surface_analysis)\n",
    "clinton = clinton.drop(['Votes', 'Votes16 Trumpd'], 1)\n",
    "clinton_state = clinton.groupby(['State'])['Votes16 Clintonh'].sum()\n",
    "\n",
    "# Prepare for plot\n",
    "X = surface_analysis['State'].unique()\n",
    "Y1 = trump_state\n",
    "Y2 = clinton_state\n",
    "\n",
    "# Combine trump/clinton's information into new data frame so that we may visualize plots in one-step\n",
    "trump_clinton_state = pd.DataFrame({'State': X, 'Votes16 Trumpd': Y1, 'Votes16 Clintonh': Y2}).reset_index(drop = True)\n",
    "\n",
    "# Plot combined information in new data frame\n",
    "trump_clinton_state.plot(x=\"State\", y = [\"Votes16 Trumpd\", \"Votes16 Clintonh\"], kind=\"bar\", figsize = (20, 10), title = \"Trump vs Clinton Vote Count by State\").set_ylabel('Vote Count')\n"
   ]
  },
  {
   "cell_type": "markdown",
   "metadata": {},
   "source": [
    "At first glance, we may notice that states with extreme differences in vote counts are dominated by Clinton. However, the presidential elections of the United States is heavily dependent on the electoral vote, decided by the dominant candidate in each state or district, rather than the nationwide, overall popular vote.\n",
    "\n",
    "In this manner, we would like to investigate the information further, in detail."
   ]
  },
  {
   "cell_type": "code",
   "execution_count": 172,
   "metadata": {
    "scrolled": true
   },
   "outputs": [
    {
     "name": "stdout",
     "output_type": "stream",
     "text": [
      "                   State  Vote_Ratio   Winner\n",
      "0               Nebraska       64.54    Trump\n",
      "1             California       52.17    Trump\n",
      "2                Florida       64.16    Trump\n",
      "3                 Kansas       65.28  Clinton\n",
      "4               Kentucky       51.59  Clinton\n",
      "5               Michigan       56.96  Clinton\n",
      "6               Missouri       56.00  Clinton\n",
      "7               Illinois       95.75  Clinton\n",
      "8               Virginia       50.66    Trump\n",
      "9                 Oregon       52.96    Trump\n",
      "10             Minnesota       67.44  Clinton\n",
      "11        North Carolina       68.22    Trump\n",
      "12            New Mexico       58.43  Clinton\n",
      "13              Oklahoma       60.13    Trump\n",
      "14              Colorado       55.11    Trump\n",
      "15               Georgia       61.26    Trump\n",
      "16                  Ohio       65.67    Trump\n",
      "17          Pennsylvania       60.18    Trump\n",
      "18        South Carolina       51.45  Clinton\n",
      "19              Arkansas       63.16  Clinton\n",
      "20                  Utah       64.46  Clinton\n",
      "21                  Iowa       50.13    Trump\n",
      "22                 Texas       50.81  Clinton\n",
      "23              Maryland       59.49    Trump\n",
      "24             Tennessee       60.05    Trump\n",
      "25             Wisconsin       61.10    Trump\n",
      "26            New Jersey       63.95    Trump\n",
      "27              New York       51.26  Clinton\n",
      "28               Alabama       50.20  Clinton\n",
      "29                 Idaho       56.83  Clinton\n",
      "30               Indiana       54.65  Clinton\n",
      "31          South Dakota       61.08  Clinton\n",
      "32         Massachusetts       51.97    Trump\n",
      "33            Washington       69.80    Trump\n",
      "34               Wyoming       54.47    Trump\n",
      "35             Louisiana       69.31    Trump\n",
      "36           Mississippi       55.73  Clinton\n",
      "37               Montana       50.59    Trump\n",
      "38          Rhode Island       58.21  Clinton\n",
      "39         West Virginia       57.38    Trump\n",
      "40         New Hampshire       66.43    Trump\n",
      "41                 Maine       63.64    Trump\n",
      "42               Arizona       54.76    Trump\n",
      "43               Vermont       62.25    Trump\n",
      "44          North Dakota       65.21  Clinton\n",
      "45                Nevada       52.55  Clinton\n",
      "46           Connecticut       58.79  Clinton\n",
      "47              Delaware       72.17    Trump\n",
      "48                Hawaii       50.41    Trump\n",
      "49  District of Columbia       75.70    Trump\n"
     ]
    }
   ],
   "source": [
    "# Create functions to be utilized in panda dataframe's apply function\n",
    "\n",
    "# Given a state(row), returns the vote ratio(winner's votes/total votes)\n",
    "def vote_ratio(row):\n",
    "    vote_total = row['Votes16 Clintonh'] + row['Votes16 Trumpd']\n",
    "    if row['Votes16 Clintonh'] > row['Votes16 Trumpd']:\n",
    "        return round((row['Votes16 Clintonh']/vote_total*100), 2)\n",
    "    elif row['Votes16 Trumpd'] > row['Votes16 Clintonh']:\n",
    "        return round((row['Votes16 Trumpd']/vote_total*100), 2)\n",
    "    else:\n",
    "        return 50.00\n",
    "\n",
    "# Given a state(row), returns the winner within that state\n",
    "def winner(row):\n",
    "    if row['Votes16 Clintonh'] > row['Votes16 Trumpd']:\n",
    "        return 'Clinton'\n",
    "    elif row['Votes16 Trumpd'] > row['Votes16 Clintonh']:\n",
    "        return 'Trump'\n",
    "    else:\n",
    "        return 'Tie'\n",
    "\n",
    "# Create new data frame for presentation\n",
    "trump_clinton_win_state = pd.DataFrame({'State': X})\n",
    "\n",
    "# Within the new data frame, create a column of vote ratios and the winner, according to the functions written above\n",
    "trump_clinton_win_state['Vote_Ratio'] = trump_clinton_state.apply(lambda row: vote_ratio(row), axis = 1)\n",
    "trump_clinton_win_state['Winner'] = trump_clinton_state.apply(lambda row: winner(row), axis = 1)\n",
    "\n",
    "print(trump_clinton_win_state)"
   ]
  },
  {
   "cell_type": "markdown",
   "metadata": {},
   "source": [
    "We notice, that vote ratios tend to be less than 65%, and many vote ratios are within the 50% ~ 60% range. Let us verify this rough observation."
   ]
  },
  {
   "cell_type": "code",
   "execution_count": 186,
   "metadata": {},
   "outputs": [
    {
     "name": "stdout",
     "output_type": "stream",
     "text": [
      "Vote ratios less than 65%: 39\n",
      "Vote ratios greater than 65%: 11 \n",
      "\n",
      "Vote ratios between 50%~60%: 26\n",
      "Vote ratios greater than 60%: 24\n"
     ]
    }
   ],
   "source": [
    "vote_ratio_less_than_65 = trump_clinton_win_state.loc[trump_clinton_win_state.Vote_Ratio < 65, 'Vote_Ratio'].count()\n",
    "vote_ratio_greater_than_65 = trump_clinton_win_state.loc[trump_clinton_win_state.Vote_Ratio >= 65, 'Vote_Ratio'].count()\n",
    "\n",
    "vote_ratio_less_than_60 = trump_clinton_win_state.loc[trump_clinton_win_state.Vote_Ratio < 60, 'Vote_Ratio'].count()\n",
    "vote_ratio_greater_than_60 = trump_clinton_win_state.loc[trump_clinton_win_state.Vote_Ratio >= 60, 'Vote_Ratio'].count()\n",
    "\n",
    "print(\"Vote ratios less than 65%:\", vote_ratio_less_than_65)\n",
    "print(\"Vote ratios greater than 65%:\", vote_ratio_greater_than_65, \"\\n\")\n",
    "\n",
    "print(\"Vote ratios between 50%~60%:\", vote_ratio_less_than_60)\n",
    "print(\"Vote ratios greater than 60%:\", vote_ratio_greater_than_60)"
   ]
  },
  {
   "cell_type": "markdown",
   "metadata": {},
   "source": [
    "Our rough observation was correct. This indicates the fact that, in majority of states, one candidate was not heavily dominant over the other, and the two candidates were quite close in vote counts for numerous states (if defining \"heavily dominant\" as winning vote ratios > 65%, and \"quite close in vote counts\" as winning vote ratios < 60%).\n",
    "\n",
    "We would now like to assess the number of states won by both Donald Trump and Hillary Clinton, as well as the \"outliers\" (states where one candidate seems to heavily dominate the other)."
   ]
  },
  {
   "cell_type": "code",
   "execution_count": 188,
   "metadata": {},
   "outputs": [
    {
     "name": "stdout",
     "output_type": "stream",
     "text": [
      "Trump won in 29 states\n",
      "Clinton won in 21 states\n"
     ]
    }
   ],
   "source": [
    "# Count the number of winning states for both members\n",
    "number_of_states_won_trump = trump_clinton_win_state.loc[trump_clinton_win_state.Winner == 'Trump', 'Winner'].count()\n",
    "print(\"Trump won in\", number_of_states_won_trump, \"states\")\n",
    "number_of_states_won_clinton = trump_clinton_win_state.loc[trump_clinton_win_state.Winner == 'Clinton', 'Winner'].count()\n",
    "print(\"Clinton won in\", number_of_states_won_clinton, \"states\")"
   ]
  },
  {
   "cell_type": "markdown",
   "metadata": {},
   "source": [
    "Trump won in more states than Clinton. It would be interesting to compare the number of overall, nationwide votes with this result, and see if there are changes in this status, before analyzing the outlier states."
   ]
  },
  {
   "cell_type": "code",
   "execution_count": 192,
   "metadata": {},
   "outputs": [
    {
     "name": "stdout",
     "output_type": "stream",
     "text": [
      "Trump's nationwide vote count: 61064602.0\n",
      "Clinton's nationwide vote count: 62426228.0\n"
     ]
    }
   ],
   "source": [
    "print(\"Trump's nationwide vote count:\", surface_analysis[\"Votes16 Trumpd\"].sum())\n",
    "print(\"Clinton's nationwide vote count:\", surface_analysis[\"Votes16 Clintonh\"].sum())"
   ]
  },
  {
   "cell_type": "markdown",
   "metadata": {},
   "source": [
    "Trump actually acquired less nationwide votes than Clinton, but seems to have won the election by superiority in electoral votes. Out of the 58 total elections held so far by the United States, the nationwide favourite won in the electoral votes for 53 elections. Therefore, United State's 2016 presidential election results may be deemed as contradictory to the stereotypical belief, that the decided winner is also the nationwide favourite."
   ]
  }
 ],
 "metadata": {
  "kernelspec": {
   "display_name": "Python 3",
   "language": "python",
   "name": "python3"
  },
  "language_info": {
   "codemirror_mode": {
    "name": "ipython",
    "version": 3
   },
   "file_extension": ".py",
   "mimetype": "text/x-python",
   "name": "python",
   "nbconvert_exporter": "python",
   "pygments_lexer": "ipython3",
   "version": "3.7.6"
  }
 },
 "nbformat": 4,
 "nbformat_minor": 4
}
