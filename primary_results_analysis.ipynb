{
 "cells": [
  {
   "cell_type": "code",
   "execution_count": 119,
   "metadata": {},
   "outputs": [],
   "source": [
    "import numpy as np\n",
    "import pandas as pd\n",
    "import matplotlib.pyplot as pyplot"
   ]
  },
  {
   "cell_type": "code",
   "execution_count": 120,
   "metadata": {},
   "outputs": [],
   "source": [
    "us_2016_primary_results = pd.read_csv('./data/us-2016-primary-results.csv', sep=';')\n",
    "# usa_2016_presidential_election_by_county = pd.read_csv('./data/usa-2016-presidential-election-by-county.csv', sep=';')"
   ]
  },
  {
   "cell_type": "code",
   "execution_count": 121,
   "metadata": {
    "scrolled": true
   },
   "outputs": [
    {
     "data": {
      "text/html": [
       "<div>\n",
       "<style scoped>\n",
       "    .dataframe tbody tr th:only-of-type {\n",
       "        vertical-align: middle;\n",
       "    }\n",
       "\n",
       "    .dataframe tbody tr th {\n",
       "        vertical-align: top;\n",
       "    }\n",
       "\n",
       "    .dataframe thead th {\n",
       "        text-align: right;\n",
       "    }\n",
       "</style>\n",
       "<table border=\"1\" class=\"dataframe\">\n",
       "  <thead>\n",
       "    <tr style=\"text-align: right;\">\n",
       "      <th></th>\n",
       "      <th>state</th>\n",
       "      <th>state_abbreviation</th>\n",
       "      <th>county</th>\n",
       "      <th>fips</th>\n",
       "      <th>party</th>\n",
       "      <th>candidate</th>\n",
       "      <th>votes</th>\n",
       "      <th>fraction_votes</th>\n",
       "    </tr>\n",
       "  </thead>\n",
       "  <tbody>\n",
       "    <tr>\n",
       "      <th>0</th>\n",
       "      <td>Vermont</td>\n",
       "      <td>VT</td>\n",
       "      <td>Sutton</td>\n",
       "      <td>95000197.0</td>\n",
       "      <td>Republican</td>\n",
       "      <td>John Kasich</td>\n",
       "      <td>20</td>\n",
       "      <td>0.227</td>\n",
       "    </tr>\n",
       "    <tr>\n",
       "      <th>1</th>\n",
       "      <td>Vermont</td>\n",
       "      <td>VT</td>\n",
       "      <td>Tunbridge</td>\n",
       "      <td>95000204.0</td>\n",
       "      <td>Republican</td>\n",
       "      <td>John Kasich</td>\n",
       "      <td>36</td>\n",
       "      <td>0.319</td>\n",
       "    </tr>\n",
       "    <tr>\n",
       "      <th>2</th>\n",
       "      <td>Vermont</td>\n",
       "      <td>VT</td>\n",
       "      <td>Weathersfield</td>\n",
       "      <td>95000220.0</td>\n",
       "      <td>Republican</td>\n",
       "      <td>Ted Cruz</td>\n",
       "      <td>46</td>\n",
       "      <td>0.111</td>\n",
       "    </tr>\n",
       "  </tbody>\n",
       "</table>\n",
       "</div>"
      ],
      "text/plain": [
       "     state state_abbreviation         county        fips       party  \\\n",
       "0  Vermont                 VT         Sutton  95000197.0  Republican   \n",
       "1  Vermont                 VT      Tunbridge  95000204.0  Republican   \n",
       "2  Vermont                 VT  Weathersfield  95000220.0  Republican   \n",
       "\n",
       "     candidate  votes  fraction_votes  \n",
       "0  John Kasich     20           0.227  \n",
       "1  John Kasich     36           0.319  \n",
       "2     Ted Cruz     46           0.111  "
      ]
     },
     "execution_count": 121,
     "metadata": {},
     "output_type": "execute_result"
    }
   ],
   "source": [
    "us_2016_primary_results.head(3)"
   ]
  },
  {
   "cell_type": "markdown",
   "metadata": {},
   "source": [
    "We first analyze the columns of the dataset, and drop any unnecessary columns, such as fips (Federal Information Processing Standards, which are numeric codes for identifying states and counties), and state_abbreviation, as they are redundant"
   ]
  },
  {
   "cell_type": "code",
   "execution_count": 122,
   "metadata": {},
   "outputs": [],
   "source": [
    "us_2016_primary_results.drop(columns=['state_abbreviation', 'fips'], inplace=True)"
   ]
  },
  {
   "cell_type": "markdown",
   "metadata": {},
   "source": [
    "We now check for missing values in the dataset"
   ]
  },
  {
   "cell_type": "code",
   "execution_count": 123,
   "metadata": {
    "scrolled": false
   },
   "outputs": [
    {
     "data": {
      "text/plain": [
       "state             0\n",
       "county            0\n",
       "party             0\n",
       "candidate         0\n",
       "votes             0\n",
       "fraction_votes    0\n",
       "dtype: int64"
      ]
     },
     "execution_count": 123,
     "metadata": {},
     "output_type": "execute_result"
    }
   ],
   "source": [
    "us_2016_primary_results.isnull().sum()"
   ]
  },
  {
   "cell_type": "code",
   "execution_count": 124,
   "metadata": {},
   "outputs": [
    {
     "data": {
      "text/html": [
       "<div>\n",
       "<style scoped>\n",
       "    .dataframe tbody tr th:only-of-type {\n",
       "        vertical-align: middle;\n",
       "    }\n",
       "\n",
       "    .dataframe tbody tr th {\n",
       "        vertical-align: top;\n",
       "    }\n",
       "\n",
       "    .dataframe thead th {\n",
       "        text-align: right;\n",
       "    }\n",
       "</style>\n",
       "<table border=\"1\" class=\"dataframe\">\n",
       "  <thead>\n",
       "    <tr style=\"text-align: right;\">\n",
       "      <th></th>\n",
       "      <th>votes</th>\n",
       "      <th>fraction_votes</th>\n",
       "    </tr>\n",
       "  </thead>\n",
       "  <tbody>\n",
       "    <tr>\n",
       "      <th>count</th>\n",
       "      <td>24611.000000</td>\n",
       "      <td>24611.000000</td>\n",
       "    </tr>\n",
       "    <tr>\n",
       "      <th>mean</th>\n",
       "      <td>2306.252773</td>\n",
       "      <td>0.304524</td>\n",
       "    </tr>\n",
       "    <tr>\n",
       "      <th>std</th>\n",
       "      <td>9861.183572</td>\n",
       "      <td>0.231401</td>\n",
       "    </tr>\n",
       "    <tr>\n",
       "      <th>min</th>\n",
       "      <td>0.000000</td>\n",
       "      <td>0.000000</td>\n",
       "    </tr>\n",
       "    <tr>\n",
       "      <th>25%</th>\n",
       "      <td>68.000000</td>\n",
       "      <td>0.094000</td>\n",
       "    </tr>\n",
       "    <tr>\n",
       "      <th>50%</th>\n",
       "      <td>358.000000</td>\n",
       "      <td>0.273000</td>\n",
       "    </tr>\n",
       "    <tr>\n",
       "      <th>75%</th>\n",
       "      <td>1375.000000</td>\n",
       "      <td>0.479000</td>\n",
       "    </tr>\n",
       "    <tr>\n",
       "      <th>max</th>\n",
       "      <td>590502.000000</td>\n",
       "      <td>1.000000</td>\n",
       "    </tr>\n",
       "  </tbody>\n",
       "</table>\n",
       "</div>"
      ],
      "text/plain": [
       "               votes  fraction_votes\n",
       "count   24611.000000    24611.000000\n",
       "mean     2306.252773        0.304524\n",
       "std      9861.183572        0.231401\n",
       "min         0.000000        0.000000\n",
       "25%        68.000000        0.094000\n",
       "50%       358.000000        0.273000\n",
       "75%      1375.000000        0.479000\n",
       "max    590502.000000        1.000000"
      ]
     },
     "execution_count": 124,
     "metadata": {},
     "output_type": "execute_result"
    }
   ],
   "source": [
    "us_2016_primary_results.describe()"
   ]
  },
  {
   "cell_type": "markdown",
   "metadata": {},
   "source": [
    "We may notice a very high maximum vote count in comparison to the 25%~75% IQR values. This is most likely due to the fact that in the US elections, there are often heavily favoured candidates, and their respective party, which often prevails the majority of votes. Such dominance is apparent in numerous states and counties, and it is also the probable cause of the seemingly high standard deviation and mean compared to the IQR values.\n",
    "\n",
    "This phenomena is renown, with the terms 'Red States' and 'Blue States' commonly characterizing regions of the United States politically. These observations of dominant candidates and parties, divided by geographic locations are often critical in assessing, and predicting the outcomes of an election.\n",
    "\n",
    "Let us now continue with this intuition, by analyzing the candidates, parties, and their associated vote counts."
   ]
  },
  {
   "cell_type": "code",
   "execution_count": 125,
   "metadata": {},
   "outputs": [
    {
     "name": "stdout",
     "output_type": "stream",
     "text": [
      "['John Kasich' 'Ted Cruz' 'Ben Carson' 'Donald Trump' 'Marco Rubio'\n",
      " 'Hillary Clinton' 'Bernie Sanders' \"Martin O'Malley\" 'Uncommitted'\n",
      " 'Carly Fiorina' 'Chris Christie' 'Mike Huckabee' 'Rick Santorum'\n",
      " 'Jeb Bush' 'Rand Paul' 'No Preference']\n"
     ]
    }
   ],
   "source": [
    "print(us_2016_primary_results.candidate.unique())"
   ]
  },
  {
   "cell_type": "code",
   "execution_count": 126,
   "metadata": {
    "scrolled": true
   },
   "outputs": [
    {
     "name": "stdout",
     "output_type": "stream",
     "text": [
      "                    votes  fraction_votes\n",
      "candidate                                \n",
      "Ben Carson         564553       98.373066\n",
      "Bernie Sanders   11959102     2074.393879\n",
      "Carly Fiorina       15191        2.408571\n",
      "Chris Christie      24353        1.937211\n",
      "Donald Trump     13302541     1671.854969\n",
      "Hillary Clinton  15692452     1939.776121\n",
      "Jeb Bush            94411        6.901265\n",
      "John Kasich       4159949      440.609220\n",
      "Marco Rubio       3321076      375.479603\n",
      "Martin O'Malley       752        0.822000\n",
      "Mike Huckabee        3345        2.395000\n",
      "No Preference        8152        2.276000\n",
      "Rand Paul            8479        3.372000\n",
      "Rick Santorum        1782        0.986000\n",
      "Ted Cruz          7603006      873.022095\n",
      "Uncommitted            43        0.045000\n"
     ]
    }
   ],
   "source": [
    "candidate_votes = us_2016_primary_results.groupby([\"candidate\"]).sum()\n",
    "print(candidate_votes)"
   ]
  },
  {
   "cell_type": "markdown",
   "metadata": {},
   "source": [
    "At first glance, Donald Trump, Bernie Sanders, Hillary Clinton are intuitively the dominant candidates, with Ben Carson, John Kasich, Marco Rubio, and Ted Cruz possessing \"meaningful\" influence in the number of votes of the presidential election.\n",
    "\n",
    "Let us take these candidates, in the above order, and visualize the votes they acquired by state."
   ]
  },
  {
   "cell_type": "code",
   "execution_count": 127,
   "metadata": {
    "scrolled": false
   },
   "outputs": [
    {
     "data": {
      "image/png": "[encoded data removed]",
      "text/plain": [
       "<Figure size 1440x720 with 1 Axes>"
      ]
     },
     "metadata": {
      "needs_background": "light"
     },
     "output_type": "display_data"
    }
   ],
   "source": [
    "donald_trump_county = us_2016_primary_results.loc[us_2016_primary_results.candidate.isin(['Donald Trump'])]\n",
    "donald_trump_state = donald_trump_county.groupby(['state', 'candidate']).agg({'votes': \"count\"})\n",
    "\n",
    "donald_trump = donald_trump_state.reset_index()\n",
    "pyplot.figure(figsize=(20,10))\n",
    "pyplot.bar(donald_trump['state'], donald_trump['votes'], width=0.3)\n",
    "pyplot.xlabel('State', fontsize = 20)\n",
    "pyplot.ylabel('Number of Votes', fontsize = 20)\n",
    "pyplot.xticks(rotation = 90, fontsize = 15)\n",
    "pyplot.title('Donald Trump Primary Election Vote Count by State', fontsize = 30)\n",
    "pyplot.show()"
   ]
  },
  {
   "cell_type": "markdown",
   "metadata": {},
   "source": [
    "We may notice very high vote counts from states: Massachusetts, Texas, and Vermont, and very low vote counts from states: Delaware, Hawaii, Kansas, New Hampshire, and Wyoming. However, these vote counts may be skewed by population size of each state. In this respect, we should observe the ratio, as opposed to pure count."
   ]
  },
  {
   "cell_type": "code",
   "execution_count": 134,
   "metadata": {
    "scrolled": false
   },
   "outputs": [
    {
     "name": "stdout",
     "output_type": "stream",
     "text": [
      "            state       party  votes\n",
      "0         Alabama    Democrat    134\n",
      "1         Alabama  Republican    335\n",
      "2          Alaska    Democrat     80\n",
      "3          Alaska  Republican    200\n",
      "4         Arizona    Democrat     30\n",
      "..            ...         ...    ...\n",
      "90  West Virginia  Republican    165\n",
      "91      Wisconsin    Democrat    144\n",
      "92      Wisconsin  Republican    216\n",
      "93        Wyoming    Democrat     46\n",
      "94        Wyoming  Republican     48\n",
      "\n",
      "[95 rows x 3 columns]\n"
     ]
    },
    {
     "data": {
      "text/plain": [
       "'\\nstate_total_votes = us_2016_primary_results.groupby([\\'state\\']).agg({\\'votes\\': \"count\"})\\nstate_total_votes = state_total_votes.reset_index()\\nstates_voted_donald_trump = state_total_votes[\\'state\\'].isin(donald_trump[\\'state\\'].values)\\nstate_total_clean = state_total_votes[states_voted_donald_trump]\\nstate_total_clean = state_total_clean.reset_index(drop = True)\\ndonald_trump[\\'votes\\'] = donald_trump[\\'votes\\'].div(state_total_clean[\\'votes\\'].values, axis=0)\\n\\npyplot.figure(figsize=(20,10))\\npyplot.bar(donald_trump[\\'state\\'], donald_trump[\\'votes\\'], width=0.3)\\npyplot.xlabel(\\'State\\', fontsize = 20)\\npyplot.ylabel(\\'Vote Ratio\\', fontsize = 20)\\npyplot.xticks(rotation = 90, fontsize = 15)\\npyplot.title(\\'Donald Trump Primary Election Vote Ratio by State\\', fontsize = 30)\\npyplot.show()\\n'"
      ]
     },
     "execution_count": 134,
     "metadata": {},
     "output_type": "execute_result"
    }
   ],
   "source": [
    "state_votes = us_2016_primary_results.groupby(['state', 'party']).agg({'votes': \"count\"})\n",
    "state_votes = state_votes.reset_index()\n",
    "print(state_votes)\n",
    "'''\n",
    "state_total_votes = us_2016_primary_results.groupby(['state']).agg({'votes': \"count\"})\n",
    "state_total_votes = state_total_votes.reset_index()\n",
    "states_voted_donald_trump = state_total_votes['state'].isin(donald_trump['state'].values)\n",
    "state_total_clean = state_total_votes[states_voted_donald_trump]\n",
    "state_total_clean = state_total_clean.reset_index(drop = True)\n",
    "donald_trump['votes'] = donald_trump['votes'].div(state_total_clean['votes'].values, axis=0)\n",
    "\n",
    "pyplot.figure(figsize=(20,10))\n",
    "pyplot.bar(donald_trump['state'], donald_trump['votes'], width=0.3)\n",
    "pyplot.xlabel('State', fontsize = 20)\n",
    "pyplot.ylabel('Vote Ratio', fontsize = 20)\n",
    "pyplot.xticks(rotation = 90, fontsize = 15)\n",
    "pyplot.title('Donald Trump Primary Election Vote Ratio by State', fontsize = 30)\n",
    "pyplot.show()\n",
    "'''"
   ]
  },
  {
   "cell_type": "markdown",
   "metadata": {},
   "source": [
    "To be added when above part ends"
   ]
  },
  {
   "cell_type": "code",
   "execution_count": 135,
   "metadata": {},
   "outputs": [
    {
     "name": "stdout",
     "output_type": "stream",
     "text": [
      "               votes  fraction_votes\n",
      "party                               \n",
      "Democrat    27660501        4017.313\n",
      "Republican  29098686        3477.339\n"
     ]
    }
   ],
   "source": [
    "party_votes = us_2016_primary_results.groupby([\"party\"]).sum()\n",
    "print(party_votes)"
   ]
  },
  {
   "cell_type": "markdown",
   "metadata": {},
   "source": [
    "It is interesting to notice the relatively uniform distributions between the two parties. One party does not seem to significatly outweigh the other in vote count for the primaries election.\n",
    "\n",
    "(Note: This does not necessarily suggest any definitive information about the outcome of the presidential elections, as the primary results are held indirectly, and separately by each party. It simply determines the number of delegates each party's national convention will receive from their respective state, which eventually decides the party's presendential nominee altogether. However, an individual voting for the primary elections must indicate which political party ballot they wish to vote in, and only select members within the chosen party, so it is the first evidence that we may reasonably utilize to determine information about each party.)\n",
    "\n",
    "With Hillary Clinton and Bernie Sanders belonging in the Democrat party, and Donald Trump in the Republican party, one may suggest the favour of the Democrats. However, with Ben Carson, John Kasich, Marco Rubio, and Ted Cruz all belonging in the Republican party, it can be proposed that voters favouring the Republican party have a wider variety of candidates that have a recognizeable number of supporters, spread out in the apparent analysis. (One or two candidates do not seem to completely prevail the number of votes in the Republican party, unlike the Democrats)"
   ]
  },
  {
   "cell_type": "code",
   "execution_count": 136,
   "metadata": {
    "scrolled": true
   },
   "outputs": [
    {
     "name": "stdout",
     "output_type": "stream",
     "text": [
      "                          votes\n",
      "state         party            \n",
      "Alabama       Democrat      134\n",
      "              Republican    335\n",
      "Alaska        Democrat       80\n",
      "              Republican    200\n",
      "Arizona       Democrat       30\n",
      "...                         ...\n",
      "West Virginia Republican    165\n",
      "Wisconsin     Democrat      144\n",
      "              Republican    216\n",
      "Wyoming       Democrat       46\n",
      "              Republican     48\n",
      "\n",
      "[95 rows x 1 columns]\n"
     ]
    }
   ],
   "source": [
    "# We may utilize pd.set_option('display.max_rows', None) to expand the output, to visualize the full list of calculations.\n",
    "# pd.reset_option('display.max_rows') may be used to reset the above command.\n",
    "\n",
    "# pd.set_option('display.max_rows', None)\n",
    "# pd.reset_option('display.max_rows')\n",
    "\n",
    "state_votes = us_2016_primary_results.groupby(['state', 'party']).agg({'votes': \"count\"})\n",
    "print(state_votes)"
   ]
  },
  {
   "cell_type": "markdown",
   "metadata": {},
   "source": [
    "Roughly, we may notice the trend of the Republicans possessing a higher number of votes over the Democrats in most states. For further assessment, we would like to see the favouring party, and their ratio of votes acquired in detail."
   ]
  },
  {
   "cell_type": "code",
   "execution_count": 137,
   "metadata": {},
   "outputs": [
    {
     "name": "stdout",
     "output_type": "stream",
     "text": [
      "         state       party  vote ratio\n",
      "0      Alabama  Republican       71.43\n",
      "1       Alaska  Republican       71.43\n",
      "2      Arizona  Republican       60.00\n",
      "3     Arkansas  Republican       71.43\n",
      "4   California  Republican       60.00\n",
      "5     Colorado    Democrat      100.00\n",
      "6  Connecticut  Republican       60.00\n",
      "7     Delaware  Republican       60.00\n",
      "8      Florida  Republican       66.67\n",
      "9      Georgia  Republican       71.43\n"
     ]
    }
   ],
   "source": [
    "pre_state_votes = state_votes.reset_index()\n",
    "current_state = ''\n",
    "i = 0\n",
    "\n",
    "# temp = [[state_1, party_favoured_1, vote_ratio_in_favour_1], [state_2, ...], ...]\n",
    "temp = []\n",
    "while (i < len(pre_state_votes['state']) - 1):\n",
    "    current_state = pre_state_votes['state'][i]\n",
    "    # Check if there are more than one party voted for in the assessing state\n",
    "    if current_state == pre_state_votes['state'][i+1]:\n",
    "        # Calculate the ratio of votes the favouring party acquired in the assessing state\n",
    "        vote_diff = pre_state_votes['votes'][i] - pre_state_votes['votes'][i+1]\n",
    "        vote_total = pre_state_votes['votes'][i] + pre_state_votes['votes'][i+1]\n",
    "        '''\n",
    "        vote_ratio = abs(round((vote_diff/vote_total*100),2))\n",
    "        '''\n",
    "        # Identify the dominant party\n",
    "        if vote_diff < 0:\n",
    "            party_favoured = 'Republican'\n",
    "            vote_ratio = abs(round((pre_state_votes['votes'][i+1]/vote_total*100),2))\n",
    "        elif vote_diff == 0:\n",
    "            party_favoured ='Even votes'\n",
    "            vote_ratio = 50\n",
    "        else:\n",
    "            party_favoured = 'Democrat'\n",
    "            vote_ratio = abs(round((pre_state_votes['votes'][i]/vote_total*100),2))\n",
    "        i += 2\n",
    "    else:\n",
    "        vote_ratio = 100\n",
    "        party_favoured = pre_state_votes['party'][i]\n",
    "        i += 1\n",
    "    temp.append([current_state, party_favoured, vote_ratio])\n",
    "# Convert calculated information into dataframe for presentation, and easier access\n",
    "state_favour = pd.DataFrame(temp, columns = ['state', 'party', 'vote ratio'])\n",
    "print(state_favour.head(10))"
   ]
  },
  {
   "cell_type": "markdown",
   "metadata": {},
   "source": [
    "There are only three states: North Dakota, Maine, and Colorado that voted for the Democrats more than the Republicans. It is interesting to observe the fact that they have a 100 to 0 ratio of votes in favour for the Democrats over the Republicans. We may suspect the fact that this data may have some deficiencies, such as missing data, and may not completely be representative of the actual primary results."
   ]
  },
  {
   "cell_type": "code",
   "execution_count": null,
   "metadata": {},
   "outputs": [],
   "source": []
  }
 ],
 "metadata": {
  "kernelspec": {
   "display_name": "Python 3",
   "language": "python",
   "name": "python3"
  },
  "language_info": {
   "codemirror_mode": {
    "name": "ipython",
    "version": 3
   },
   "file_extension": ".py",
   "mimetype": "text/x-python",
   "name": "python",
   "nbconvert_exporter": "python",
   "pygments_lexer": "ipython3",
   "version": "3.7.6"
  }
 },
 "nbformat": 4,
 "nbformat_minor": 4
}
